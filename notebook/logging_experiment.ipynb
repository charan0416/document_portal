{
 "cells": [
  {
   "cell_type": "code",
   "execution_count": 1,
   "id": "f3b300b2",
   "metadata": {},
   "outputs": [],
   "source": [
    "import logging\n",
    "import os\n",
    "from datetime import datetime"
   ]
  },
  {
   "cell_type": "code",
   "execution_count": 2,
   "id": "07454666",
   "metadata": {},
   "outputs": [
    {
     "data": {
      "text/plain": [
       "'d:\\\\llm_live_projects\\\\document_portel\\\\notebook'"
      ]
     },
     "execution_count": 2,
     "metadata": {},
     "output_type": "execute_result"
    }
   ],
   "source": [
    "os.getcwd()"
   ]
  },
  {
   "cell_type": "code",
   "execution_count": 3,
   "id": "57cd66ae",
   "metadata": {},
   "outputs": [],
   "source": [
    "\n",
    "logs_dir=os.path.join(os.getcwd(),\"logs\")\n",
    "os.makedirs(logs_dir, exist_ok=True)"
   ]
  },
  {
   "cell_type": "code",
   "execution_count": null,
   "id": "03c9571a",
   "metadata": {},
   "outputs": [],
   "source": [
    "LOG_FILE = f\"{datetime.now().strftime('%m_%d_%Y_%H_%M_%S')}.log\"\n"
   ]
  },
  {
   "cell_type": "code",
   "execution_count": 5,
   "id": "105fb95c",
   "metadata": {},
   "outputs": [
    {
     "data": {
      "text/plain": [
       "'08_11_2025_16_52_12.log'"
      ]
     },
     "execution_count": 5,
     "metadata": {},
     "output_type": "execute_result"
    }
   ],
   "source": [
    "LOG_FILE"
   ]
  },
  {
   "cell_type": "code",
   "execution_count": 9,
   "id": "9563f924",
   "metadata": {},
   "outputs": [
    {
     "data": {
      "text/plain": [
       "'08_11_2025_16_52_12.log'"
      ]
     },
     "execution_count": 9,
     "metadata": {},
     "output_type": "execute_result"
    }
   ],
   "source": [
    "LOG_FILE_PATH=os.path.join(logs_dir, LOG_FILE)\n",
    "LOG_FILE"
   ]
  },
  {
   "cell_type": "code",
   "execution_count": 8,
   "id": "be09176a",
   "metadata": {},
   "outputs": [],
   "source": [
    "logging.basicConfig(\n",
    "    filename=LOG_FILE_PATH,\n",
    "    format=\"[ %(asctime)s ] %(levelname)s %(name)s (line:%(lineno)d) - %(message)s\",\n",
    "    level=logging.INFO,\n",
    ")"
   ]
  },
  {
   "cell_type": "code",
   "execution_count": 12,
   "id": "fc02bfda",
   "metadata": {},
   "outputs": [
    {
     "data": {
      "text/plain": [
       "<Logger DocumentPortal (INFO)>"
      ]
     },
     "execution_count": 12,
     "metadata": {},
     "output_type": "execute_result"
    }
   ],
   "source": [
    "logger=logging.getLogger(\"DocumentPortal\")\n",
    "logger"
   ]
  },
  {
   "cell_type": "code",
   "execution_count": null,
   "id": "11afff71",
   "metadata": {},
   "outputs": [
    {
     "name": "stderr",
     "output_type": "stream",
     "text": [
      "2025-08-11 17:37:31,203 - INFO - This is an info message\n"
     ]
    }
   ],
   "source": [
    "\n",
    "logger.setLevel(logging.INFO)\n",
    "# Log a message\n",
    "logger.info(\"This is an info message\")\n"
   ]
  },
  {
   "cell_type": "code",
   "execution_count": 4,
   "id": "dbcaf71a",
   "metadata": {},
   "outputs": [],
   "source": [
    "import structlog\n",
    "log=structlog.get_logger()"
   ]
  },
  {
   "cell_type": "code",
   "execution_count": null,
   "id": "83edb7bd",
   "metadata": {},
   "outputs": [
    {
     "name": "stdout",
     "output_type": "stream",
     "text": [
      "2025-08-12 15:48:07 [info     ] User uploaded a file           filename=report.pdf user_id=123\n"
     ]
    }
   ],
   "source": [
    "log.info(\"User uploaded a file\", user_id=123, filename=\"report.pdf\")"
   ]
  },
  {
   "cell_type": "code",
   "execution_count": 6,
   "id": "b371e0b9",
   "metadata": {},
   "outputs": [
    {
     "name": "stdout",
     "output_type": "stream",
     "text": [
      "2025-08-12 15:49:53 [error    ] Failed to process PDF          error='File not found' user_id=123\n"
     ]
    }
   ],
   "source": [
    "log.error(\"Failed to process PDF\", error=\"File not found\", user_id=123)"
   ]
  },
  {
   "cell_type": "code",
   "execution_count": null,
   "id": "3808a89f",
   "metadata": {},
   "outputs": [],
   "source": []
  },
  {
   "cell_type": "code",
   "execution_count": null,
   "id": "5a51ca06",
   "metadata": {},
   "outputs": [],
   "source": []
  },
  {
   "cell_type": "code",
   "execution_count": null,
   "id": "0fe046b5",
   "metadata": {},
   "outputs": [],
   "source": []
  },
  {
   "cell_type": "code",
   "execution_count": null,
   "id": "dbc1d1b3",
   "metadata": {},
   "outputs": [],
   "source": []
  }
 ],
 "metadata": {
  "kernelspec": {
   "display_name": "Python 3",
   "language": "python",
   "name": "python3"
  },
  "language_info": {
   "codemirror_mode": {
    "name": "ipython",
    "version": 3
   },
   "file_extension": ".py",
   "mimetype": "text/x-python",
   "name": "python",
   "nbconvert_exporter": "python",
   "pygments_lexer": "ipython3",
   "version": "3.10.18"
  }
 },
 "nbformat": 4,
 "nbformat_minor": 5
}
