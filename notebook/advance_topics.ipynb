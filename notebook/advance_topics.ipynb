{
 "cells": [
  {
   "cell_type": "markdown",
   "id": "6b34c090",
   "metadata": {},
   "source": [
    "Assignment on first Project:\n",
    "\n",
    "you have to make enable this project for every document(.ppt,.docx,.md,.txt,.pdf,.xlxs,.csv,anysqldb)\n",
    "you have to add a code for dealing with table and images data also\n",
    "you have to add the evalation matrix using the DeepEval\n",
    "write at least 10 test cases\n",
    "this cases should be vaildate before the commit and after the commit\n",
    "add one login screen to your protal\n",
    "use the langchain inmemory cache and implement inside the project\n",
    "deadline for this assignment is till 5th of september(friday)\n",
    "inner will present the entire solution to the whole class (30 minute presentation would be there)\n",
    "prize: money or course or giftpack(there will be only one winnner)\n",
    "\n",
    "\n",
    "\n",
    "assignment"
   ]
  },
  {
   "cell_type": "code",
   "execution_count": null,
   "id": "7cb69a14",
   "metadata": {},
   "outputs": [],
   "source": [
    "advance_topics.ipynb\n"
   ]
  },
  {
   "cell_type": "code",
   "execution_count": null,
   "id": "474ecfff",
   "metadata": {},
   "outputs": [],
   "source": []
  }
 ],
 "metadata": {
  "language_info": {
   "name": "python"
  }
 },
 "nbformat": 4,
 "nbformat_minor": 5
}
